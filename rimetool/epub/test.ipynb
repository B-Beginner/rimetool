{
 "cells": [
  {
   "cell_type": "code",
   "execution_count": 1,
   "metadata": {},
   "outputs": [
    {
     "name": "stderr",
     "output_type": "stream",
     "text": [
      "'uv' �����ڲ����ⲿ���Ҳ���ǿ����еĳ���\n",
      "���������ļ���\n"
     ]
    }
   ],
   "source": [
    "! uv pip install EbookLib"
   ]
  },
  {
   "cell_type": "code",
   "execution_count": 2,
   "metadata": {},
   "outputs": [],
   "source": [
    "import ebooklib\n",
    "from ebooklib import epub\n",
    "import re"
   ]
  },
  {
   "cell_type": "code",
   "execution_count": 4,
   "metadata": {},
   "outputs": [
    {
     "name": "stderr",
     "output_type": "stream",
     "text": [
      "e:\\Anaconda\\Lib\\site-packages\\ebooklib\\epub.py:1395: UserWarning: In the future version we will turn default option ignore_ncx to True.\n",
      "  warnings.warn('In the future version we will turn default option ignore_ncx to True.')\n",
      "e:\\Anaconda\\Lib\\site-packages\\ebooklib\\epub.py:1423: FutureWarning: This search incorrectly ignores the root element, and will be fixed in a future version.  If you rely on the current behaviour, change it to './/xmlns:rootfile[@media-type]'\n",
      "  for root_file in tree.findall('//xmlns:rootfile[@media-type]', namespaces={'xmlns': NAMESPACES['CONTAINERNS']}):\n"
     ]
    }
   ],
   "source": [
    "import ebooklib\n",
    "from ebooklib import epub\n",
    "import re\n",
    "\n",
    "# Load the EPUB file\n",
    "book = epub.read_epub(r'J:\\Project_Playground\\rime2\\rimetool\\rimetool\\epub\\金匮要略 中医临床必读丛书.epub')\n",
    "\n",
    "# # Iterate through the items in the book\n",
    "# for item in book.get_items():\n",
    "#     if item.get_type() == ebooklib.ITEM_DOCUMENT:\n",
    "#         print(item.get_body_content().decode('utf-8'))\n",
    "\n",
    "\n",
    "\n",
    "# Open a file to write the content\n",
    "with open(r'J:\\Project_Playground\\rime2\\rimetool\\rimetool\\epub\\jkyl2.txt', 'w', encoding='utf-8') as f:\n",
    "    # Iterate through the items in the book\n",
    "    for item in book.get_items():\n",
    "        if item.get_type() == ebooklib.ITEM_DOCUMENT:\n",
    "            content = item.get_body_content().decode('utf-8')\n",
    "            # Find all sections with id=\"CHP\"\n",
    "            sections = re.findall(r'<.*?id=\"CHP.*?>.*?</.*?>', content, re.DOTALL)\n",
    "            for section in sections:\n",
    "                f.write(section)\n",
    "                f.write('\\n')  # Add a newline for separation between sections"
   ]
  },
  {
   "cell_type": "code",
   "execution_count": 3,
   "metadata": {},
   "outputs": [],
   "source": [
    "from bs4 import BeautifulSoup\n",
    "with open(r'J:\\Project_Playground\\rime2\\rimetool\\rimetool\\epub\\金匮要略 中医临床必读丛书2.txt', 'r', encoding='utf-8') as file:\n",
    "    content = file.read()\n",
    "soup = BeautifulSoup(content, 'html.parser')\n",
    "\n",
    "# 打开一个文件以写入提取的内容\n",
    "with open(r'J:\\Project_Playground\\rime2\\rimetool\\rimetool\\epub\\金匮要略 中医临床必读丛书3.2.txt', 'w', encoding='utf-8') as output_file:\n",
    "    # 删除所有img标签\n",
    "    for img_tag in soup.find_all('img'):\n",
    "        img_tag.decompose()\n",
    "\n",
    "    # 查找所有符合条件的h3标签\n",
    "\n",
    "    h3_tags = soup.find_all('div', class_='h3', id=re.compile(r'CHP\\d+'))\n",
    "    for tag in h3_tags:\n",
    "        output_file.write(str(tag))\n",
    "        output_file.write('\\n')\n",
    "\n",
    "    # 查找所有符合条件的p标签\n",
    "    p_tags = soup.find_all('div', class_='pCls')\n",
    "    for tag in p_tags:\n",
    "        output_file.write(str(tag))\n",
    "        output_file.write('\\n')\n"
   ]
  },
  {
   "cell_type": "code",
   "execution_count": null,
   "metadata": {},
   "outputs": [],
   "source": []
  },
  {
   "cell_type": "code",
   "execution_count": 6,
   "metadata": {},
   "outputs": [],
   "source": [
    "with open(r'J:\\Project_Playground\\rime2\\rimetool\\rimetool\\epub\\金匮要略 中医临床必读丛书3.txt', 'r', encoding='utf-8') as file:\n",
    "    content = file.read()\n",
    "soup = BeautifulSoup(content, 'html.parser')\n",
    "\n",
    "\n",
    "with open(r'J:\\Project_Playground\\rime2\\rimetool\\rimetool\\epub\\金匮要略 中医临床必读丛书4.txt', 'w', encoding='utf-8') as output_file:\n",
    "\n",
    "\t# 查找所有div标签并只保留其内容\n",
    "\tfor div_tag in soup.find_all('div'):\n",
    "\t\tdiv_tag.unwrap()\n",
    "\toutput_file.write(str(soup))"
   ]
  },
  {
   "cell_type": "code",
   "execution_count": 2,
   "metadata": {},
   "outputs": [],
   "source": [
    "input_file = './cn_tcm_acupuncture.dict.yaml'\n",
    "output_file = './outputcn_tcm_acupuncture.dict.yaml'\n",
    "\n",
    "with open(input_file, 'r', encoding='utf-8') as infile, open(output_file, 'w', encoding='utf-8') as outfile:\n",
    "    for line in infile:\n",
    "        if '俞' in line:\n",
    "            line = line.replace('yu', 'shu')\n",
    "        outfile.write(line)"
   ]
  },
  {
   "cell_type": "code",
   "execution_count": null,
   "metadata": {},
   "outputs": [],
   "source": []
  }
 ],
 "metadata": {
  "kernelspec": {
   "display_name": "base",
   "language": "python",
   "name": "python3"
  },
  "language_info": {
   "codemirror_mode": {
    "name": "ipython",
    "version": 3
   },
   "file_extension": ".py",
   "mimetype": "text/x-python",
   "name": "python",
   "nbconvert_exporter": "python",
   "pygments_lexer": "ipython3",
   "version": "3.12.7"
  }
 },
 "nbformat": 4,
 "nbformat_minor": 2
}
